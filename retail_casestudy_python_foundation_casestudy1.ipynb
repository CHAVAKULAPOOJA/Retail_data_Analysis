{
 "cells": [
  {
   "cell_type": "code",
   "execution_count": 1,
   "id": "ace3bd65",
   "metadata": {},
   "outputs": [],
   "source": [
    "# Import the necceasary packages\n",
    "\n",
    "# Numerical Operations\n",
    "import pandas as pd\n",
    "import numpy as np\n",
    "import os\n",
    "\n",
    "#Plotting\n",
    "import matplotlib.pyplot as plt\n",
    "import seaborn as sns\n",
    "\n",
    "#Remove warnings\n",
    "import warnings\n",
    "warnings.filterwarnings('ignore')\n",
    "\n",
    "#Date\n",
    "import datetime as dt\n",
    "\n",
    "# set the graphs to show in the jupyter notebook\n",
    "%matplotlib inline\n",
    "\n",
    "# set seabor graphs to a better style\n",
    "sns.set(style=\"ticks\")\n",
    "\n",
    "# for better visualization\n",
    "plt.style.use('ggplot')"
   ]
  },
  {
   "cell_type": "markdown",
   "id": "7a26e160",
   "metadata": {},
   "source": [
    "## 1. Merge the datasets Customers, Product Hierarchy and Transactions as Customer_Final. Ensure to keep all customers who have done transactions with us and select the join type accordingly."
   ]
  },
  {
   "cell_type": "code",
   "execution_count": 3,
   "id": "b5ebafaf",
   "metadata": {},
   "outputs": [
    {
     "data": {
      "text/html": [
       "<div>\n",
       "<style scoped>\n",
       "    .dataframe tbody tr th:only-of-type {\n",
       "        vertical-align: middle;\n",
       "    }\n",
       "\n",
       "    .dataframe tbody tr th {\n",
       "        vertical-align: top;\n",
       "    }\n",
       "\n",
       "    .dataframe thead th {\n",
       "        text-align: right;\n",
       "    }\n",
       "</style>\n",
       "<table border=\"1\" class=\"dataframe\">\n",
       "  <thead>\n",
       "    <tr style=\"text-align: right;\">\n",
       "      <th></th>\n",
       "      <th>transaction_id</th>\n",
       "      <th>cust_id</th>\n",
       "      <th>tran_date</th>\n",
       "      <th>prod_subcat_code</th>\n",
       "      <th>prod_cat_code</th>\n",
       "      <th>Qty</th>\n",
       "      <th>Rate</th>\n",
       "      <th>Tax</th>\n",
       "      <th>total_amt</th>\n",
       "      <th>Store_type</th>\n",
       "      <th>prod_cat</th>\n",
       "      <th>prod_subcat</th>\n",
       "      <th>DOB</th>\n",
       "      <th>Gender</th>\n",
       "      <th>city_code</th>\n",
       "    </tr>\n",
       "  </thead>\n",
       "  <tbody>\n",
       "    <tr>\n",
       "      <th>0</th>\n",
       "      <td>80712190438</td>\n",
       "      <td>270351</td>\n",
       "      <td>28-02-2014</td>\n",
       "      <td>1</td>\n",
       "      <td>1</td>\n",
       "      <td>-5</td>\n",
       "      <td>-772</td>\n",
       "      <td>405.300</td>\n",
       "      <td>-4265.300</td>\n",
       "      <td>e-Shop</td>\n",
       "      <td>Clothing</td>\n",
       "      <td>Women</td>\n",
       "      <td>26-09-1981</td>\n",
       "      <td>M</td>\n",
       "      <td>5.0</td>\n",
       "    </tr>\n",
       "    <tr>\n",
       "      <th>1</th>\n",
       "      <td>80712190438</td>\n",
       "      <td>270351</td>\n",
       "      <td>20-02-2014</td>\n",
       "      <td>1</td>\n",
       "      <td>1</td>\n",
       "      <td>5</td>\n",
       "      <td>772</td>\n",
       "      <td>405.300</td>\n",
       "      <td>4265.300</td>\n",
       "      <td>e-Shop</td>\n",
       "      <td>Clothing</td>\n",
       "      <td>Women</td>\n",
       "      <td>26-09-1981</td>\n",
       "      <td>M</td>\n",
       "      <td>5.0</td>\n",
       "    </tr>\n",
       "    <tr>\n",
       "      <th>2</th>\n",
       "      <td>13181563739</td>\n",
       "      <td>270351</td>\n",
       "      <td>13-12-2011</td>\n",
       "      <td>6</td>\n",
       "      <td>5</td>\n",
       "      <td>1</td>\n",
       "      <td>1048</td>\n",
       "      <td>110.040</td>\n",
       "      <td>1158.040</td>\n",
       "      <td>e-Shop</td>\n",
       "      <td>Books</td>\n",
       "      <td>DIY</td>\n",
       "      <td>26-09-1981</td>\n",
       "      <td>M</td>\n",
       "      <td>5.0</td>\n",
       "    </tr>\n",
       "    <tr>\n",
       "      <th>3</th>\n",
       "      <td>12236277258</td>\n",
       "      <td>270351</td>\n",
       "      <td>18-03-2013</td>\n",
       "      <td>8</td>\n",
       "      <td>3</td>\n",
       "      <td>3</td>\n",
       "      <td>1030</td>\n",
       "      <td>324.450</td>\n",
       "      <td>3414.450</td>\n",
       "      <td>e-Shop</td>\n",
       "      <td>Electronics</td>\n",
       "      <td>Personal Appliances</td>\n",
       "      <td>26-09-1981</td>\n",
       "      <td>M</td>\n",
       "      <td>5.0</td>\n",
       "    </tr>\n",
       "    <tr>\n",
       "      <th>4</th>\n",
       "      <td>36957441426</td>\n",
       "      <td>270351</td>\n",
       "      <td>16-09-2013</td>\n",
       "      <td>3</td>\n",
       "      <td>2</td>\n",
       "      <td>3</td>\n",
       "      <td>361</td>\n",
       "      <td>113.715</td>\n",
       "      <td>1196.715</td>\n",
       "      <td>Flagship store</td>\n",
       "      <td>Footwear</td>\n",
       "      <td>Women</td>\n",
       "      <td>26-09-1981</td>\n",
       "      <td>M</td>\n",
       "      <td>5.0</td>\n",
       "    </tr>\n",
       "    <tr>\n",
       "      <th>...</th>\n",
       "      <td>...</td>\n",
       "      <td>...</td>\n",
       "      <td>...</td>\n",
       "      <td>...</td>\n",
       "      <td>...</td>\n",
       "      <td>...</td>\n",
       "      <td>...</td>\n",
       "      <td>...</td>\n",
       "      <td>...</td>\n",
       "      <td>...</td>\n",
       "      <td>...</td>\n",
       "      <td>...</td>\n",
       "      <td>...</td>\n",
       "      <td>...</td>\n",
       "      <td>...</td>\n",
       "    </tr>\n",
       "    <tr>\n",
       "      <th>23048</th>\n",
       "      <td>87125650</td>\n",
       "      <td>268666</td>\n",
       "      <td>9/8/2011</td>\n",
       "      <td>1</td>\n",
       "      <td>4</td>\n",
       "      <td>-5</td>\n",
       "      <td>-359</td>\n",
       "      <td>188.475</td>\n",
       "      <td>-1983.475</td>\n",
       "      <td>e-Shop</td>\n",
       "      <td>Bags</td>\n",
       "      <td>Mens</td>\n",
       "      <td>11-12-1978</td>\n",
       "      <td>M</td>\n",
       "      <td>3.0</td>\n",
       "    </tr>\n",
       "    <tr>\n",
       "      <th>23049</th>\n",
       "      <td>87125650</td>\n",
       "      <td>268666</td>\n",
       "      <td>5/8/2011</td>\n",
       "      <td>1</td>\n",
       "      <td>4</td>\n",
       "      <td>5</td>\n",
       "      <td>359</td>\n",
       "      <td>188.475</td>\n",
       "      <td>1983.475</td>\n",
       "      <td>e-Shop</td>\n",
       "      <td>Bags</td>\n",
       "      <td>Mens</td>\n",
       "      <td>11-12-1978</td>\n",
       "      <td>M</td>\n",
       "      <td>3.0</td>\n",
       "    </tr>\n",
       "    <tr>\n",
       "      <th>23050</th>\n",
       "      <td>34764580226</td>\n",
       "      <td>269784</td>\n",
       "      <td>20-07-2011</td>\n",
       "      <td>1</td>\n",
       "      <td>4</td>\n",
       "      <td>1</td>\n",
       "      <td>1057</td>\n",
       "      <td>110.985</td>\n",
       "      <td>1167.985</td>\n",
       "      <td>Flagship store</td>\n",
       "      <td>Bags</td>\n",
       "      <td>Mens</td>\n",
       "      <td>26-04-1986</td>\n",
       "      <td>F</td>\n",
       "      <td>7.0</td>\n",
       "    </tr>\n",
       "    <tr>\n",
       "      <th>23051</th>\n",
       "      <td>80809115393</td>\n",
       "      <td>268084</td>\n",
       "      <td>1/4/2011</td>\n",
       "      <td>1</td>\n",
       "      <td>4</td>\n",
       "      <td>4</td>\n",
       "      <td>873</td>\n",
       "      <td>366.660</td>\n",
       "      <td>3858.660</td>\n",
       "      <td>TeleShop</td>\n",
       "      <td>Bags</td>\n",
       "      <td>Mens</td>\n",
       "      <td>18-11-1970</td>\n",
       "      <td>M</td>\n",
       "      <td>1.0</td>\n",
       "    </tr>\n",
       "    <tr>\n",
       "      <th>23052</th>\n",
       "      <td>12933894691</td>\n",
       "      <td>272706</td>\n",
       "      <td>31-01-2011</td>\n",
       "      <td>1</td>\n",
       "      <td>4</td>\n",
       "      <td>5</td>\n",
       "      <td>361</td>\n",
       "      <td>189.525</td>\n",
       "      <td>1994.525</td>\n",
       "      <td>MBR</td>\n",
       "      <td>Bags</td>\n",
       "      <td>Mens</td>\n",
       "      <td>09-03-1974</td>\n",
       "      <td>M</td>\n",
       "      <td>8.0</td>\n",
       "    </tr>\n",
       "  </tbody>\n",
       "</table>\n",
       "<p>23053 rows × 15 columns</p>\n",
       "</div>"
      ],
      "text/plain": [
       "       transaction_id  cust_id   tran_date  prod_subcat_code  prod_cat_code  \\\n",
       "0         80712190438   270351  28-02-2014                 1              1   \n",
       "1         80712190438   270351  20-02-2014                 1              1   \n",
       "2         13181563739   270351  13-12-2011                 6              5   \n",
       "3         12236277258   270351  18-03-2013                 8              3   \n",
       "4         36957441426   270351  16-09-2013                 3              2   \n",
       "...               ...      ...         ...               ...            ...   \n",
       "23048        87125650   268666    9/8/2011                 1              4   \n",
       "23049        87125650   268666    5/8/2011                 1              4   \n",
       "23050     34764580226   269784  20-07-2011                 1              4   \n",
       "23051     80809115393   268084    1/4/2011                 1              4   \n",
       "23052     12933894691   272706  31-01-2011                 1              4   \n",
       "\n",
       "       Qty  Rate      Tax  total_amt      Store_type     prod_cat  \\\n",
       "0       -5  -772  405.300  -4265.300          e-Shop     Clothing   \n",
       "1        5   772  405.300   4265.300          e-Shop     Clothing   \n",
       "2        1  1048  110.040   1158.040          e-Shop        Books   \n",
       "3        3  1030  324.450   3414.450          e-Shop  Electronics   \n",
       "4        3   361  113.715   1196.715  Flagship store     Footwear   \n",
       "...    ...   ...      ...        ...             ...          ...   \n",
       "23048   -5  -359  188.475  -1983.475          e-Shop         Bags   \n",
       "23049    5   359  188.475   1983.475          e-Shop         Bags   \n",
       "23050    1  1057  110.985   1167.985  Flagship store         Bags   \n",
       "23051    4   873  366.660   3858.660        TeleShop         Bags   \n",
       "23052    5   361  189.525   1994.525             MBR         Bags   \n",
       "\n",
       "               prod_subcat         DOB Gender  city_code  \n",
       "0                    Women  26-09-1981      M        5.0  \n",
       "1                    Women  26-09-1981      M        5.0  \n",
       "2                      DIY  26-09-1981      M        5.0  \n",
       "3      Personal Appliances  26-09-1981      M        5.0  \n",
       "4                    Women  26-09-1981      M        5.0  \n",
       "...                    ...         ...    ...        ...  \n",
       "23048                 Mens  11-12-1978      M        3.0  \n",
       "23049                 Mens  11-12-1978      M        3.0  \n",
       "23050                 Mens  26-04-1986      F        7.0  \n",
       "23051                 Mens  18-11-1970      M        1.0  \n",
       "23052                 Mens  09-03-1974      M        8.0  \n",
       "\n",
       "[23053 rows x 15 columns]"
      ]
     },
     "execution_count": 3,
     "metadata": {},
     "output_type": "execute_result"
    }
   ],
   "source": [
    "tran=pd.read_csv(r\"F:\\PYTHON DATASCIENCE\\retail case study\\Transactions.csv\")\n",
    "customer=pd.read_csv(r\"F:\\PYTHON DATASCIENCE\\retail case study\\Customer.csv\")\n",
    "prod_cat_info=pd.read_csv(r\"F:\\PYTHON DATASCIENCE\\retail case study\\prod_cat_info.csv\")\n",
    "a=pd.merge(left=tran,right=prod_cat_info,left_on=['prod_cat_code','prod_subcat_code'],right_on=['prod_cat_code','prod_sub_cat_code'])\n",
    "Customer_Final=pd.merge(left=a,right=customer,left_on='cust_id',right_on='customer_Id')\n",
    "Customer_Final=Customer_Final.drop(columns=['customer_Id','prod_sub_cat_code'])\n",
    "Customer_Final"
   ]
  },
  {
   "cell_type": "markdown",
   "id": "1f66f809",
   "metadata": {},
   "source": [
    "## 2. Prepare a summary report for the merged data set."
   ]
  },
  {
   "cell_type": "markdown",
   "id": "fc710783",
   "metadata": {},
   "source": [
    "###  a. Get the column names and their corresponding data types"
   ]
  },
  {
   "cell_type": "code",
   "execution_count": 4,
   "id": "f063e116",
   "metadata": {},
   "outputs": [
    {
     "data": {
      "text/plain": [
       "Index(['transaction_id', 'cust_id', 'tran_date', 'prod_subcat_code',\n",
       "       'prod_cat_code', 'Qty', 'Rate', 'Tax', 'total_amt', 'Store_type',\n",
       "       'prod_cat', 'prod_subcat', 'DOB', 'Gender', 'city_code'],\n",
       "      dtype='object')"
      ]
     },
     "execution_count": 4,
     "metadata": {},
     "output_type": "execute_result"
    }
   ],
   "source": [
    "Customer_Final.columns"
   ]
  },
  {
   "cell_type": "code",
   "execution_count": 5,
   "id": "e4c4fba2",
   "metadata": {},
   "outputs": [
    {
     "data": {
      "text/plain": [
       "transaction_id        int64\n",
       "cust_id               int64\n",
       "tran_date            object\n",
       "prod_subcat_code      int64\n",
       "prod_cat_code         int64\n",
       "Qty                   int64\n",
       "Rate                  int64\n",
       "Tax                 float64\n",
       "total_amt           float64\n",
       "Store_type           object\n",
       "prod_cat             object\n",
       "prod_subcat          object\n",
       "DOB                  object\n",
       "Gender               object\n",
       "city_code           float64\n",
       "dtype: object"
      ]
     },
     "execution_count": 5,
     "metadata": {},
     "output_type": "execute_result"
    }
   ],
   "source": [
    "Customer_Final.dtypes"
   ]
  },
  {
   "cell_type": "code",
   "execution_count": 6,
   "id": "af3cad2e",
   "metadata": {},
   "outputs": [],
   "source": [
    "Customer_Final.tran_date=pd.to_datetime(Customer_Final.tran_date)\n",
    "Customer_Final.DOB=pd.to_datetime(Customer_Final.DOB)"
   ]
  },
  {
   "cell_type": "code",
   "execution_count": 7,
   "id": "1a797cb6",
   "metadata": {},
   "outputs": [
    {
     "data": {
      "text/plain": [
       "transaction_id               int64\n",
       "cust_id                      int64\n",
       "tran_date           datetime64[ns]\n",
       "prod_subcat_code             int64\n",
       "prod_cat_code                int64\n",
       "Qty                          int64\n",
       "Rate                         int64\n",
       "Tax                        float64\n",
       "total_amt                  float64\n",
       "Store_type                  object\n",
       "prod_cat                    object\n",
       "prod_subcat                 object\n",
       "DOB                 datetime64[ns]\n",
       "Gender                      object\n",
       "city_code                  float64\n",
       "dtype: object"
      ]
     },
     "execution_count": 7,
     "metadata": {},
     "output_type": "execute_result"
    }
   ],
   "source": [
    "Customer_Final.dtypes"
   ]
  },
  {
   "cell_type": "markdown",
   "id": "cff8dde6",
   "metadata": {},
   "source": [
    "###  b. Top/Bottom 10 observations"
   ]
  },
  {
   "cell_type": "code",
   "execution_count": 8,
   "id": "f782cd01",
   "metadata": {},
   "outputs": [
    {
     "data": {
      "text/html": [
       "<div>\n",
       "<style scoped>\n",
       "    .dataframe tbody tr th:only-of-type {\n",
       "        vertical-align: middle;\n",
       "    }\n",
       "\n",
       "    .dataframe tbody tr th {\n",
       "        vertical-align: top;\n",
       "    }\n",
       "\n",
       "    .dataframe thead th {\n",
       "        text-align: right;\n",
       "    }\n",
       "</style>\n",
       "<table border=\"1\" class=\"dataframe\">\n",
       "  <thead>\n",
       "    <tr style=\"text-align: right;\">\n",
       "      <th></th>\n",
       "      <th>transaction_id</th>\n",
       "      <th>cust_id</th>\n",
       "      <th>tran_date</th>\n",
       "      <th>prod_subcat_code</th>\n",
       "      <th>prod_cat_code</th>\n",
       "      <th>Qty</th>\n",
       "      <th>Rate</th>\n",
       "      <th>Tax</th>\n",
       "      <th>total_amt</th>\n",
       "      <th>Store_type</th>\n",
       "      <th>prod_cat</th>\n",
       "      <th>prod_subcat</th>\n",
       "      <th>DOB</th>\n",
       "      <th>Gender</th>\n",
       "      <th>city_code</th>\n",
       "    </tr>\n",
       "  </thead>\n",
       "  <tbody>\n",
       "    <tr>\n",
       "      <th>0</th>\n",
       "      <td>80712190438</td>\n",
       "      <td>270351</td>\n",
       "      <td>2014-02-28</td>\n",
       "      <td>1</td>\n",
       "      <td>1</td>\n",
       "      <td>-5</td>\n",
       "      <td>-772</td>\n",
       "      <td>405.300</td>\n",
       "      <td>-4265.300</td>\n",
       "      <td>e-Shop</td>\n",
       "      <td>Clothing</td>\n",
       "      <td>Women</td>\n",
       "      <td>1981-09-26</td>\n",
       "      <td>M</td>\n",
       "      <td>5.0</td>\n",
       "    </tr>\n",
       "    <tr>\n",
       "      <th>1</th>\n",
       "      <td>80712190438</td>\n",
       "      <td>270351</td>\n",
       "      <td>2014-02-20</td>\n",
       "      <td>1</td>\n",
       "      <td>1</td>\n",
       "      <td>5</td>\n",
       "      <td>772</td>\n",
       "      <td>405.300</td>\n",
       "      <td>4265.300</td>\n",
       "      <td>e-Shop</td>\n",
       "      <td>Clothing</td>\n",
       "      <td>Women</td>\n",
       "      <td>1981-09-26</td>\n",
       "      <td>M</td>\n",
       "      <td>5.0</td>\n",
       "    </tr>\n",
       "    <tr>\n",
       "      <th>2</th>\n",
       "      <td>13181563739</td>\n",
       "      <td>270351</td>\n",
       "      <td>2011-12-13</td>\n",
       "      <td>6</td>\n",
       "      <td>5</td>\n",
       "      <td>1</td>\n",
       "      <td>1048</td>\n",
       "      <td>110.040</td>\n",
       "      <td>1158.040</td>\n",
       "      <td>e-Shop</td>\n",
       "      <td>Books</td>\n",
       "      <td>DIY</td>\n",
       "      <td>1981-09-26</td>\n",
       "      <td>M</td>\n",
       "      <td>5.0</td>\n",
       "    </tr>\n",
       "    <tr>\n",
       "      <th>3</th>\n",
       "      <td>12236277258</td>\n",
       "      <td>270351</td>\n",
       "      <td>2013-03-18</td>\n",
       "      <td>8</td>\n",
       "      <td>3</td>\n",
       "      <td>3</td>\n",
       "      <td>1030</td>\n",
       "      <td>324.450</td>\n",
       "      <td>3414.450</td>\n",
       "      <td>e-Shop</td>\n",
       "      <td>Electronics</td>\n",
       "      <td>Personal Appliances</td>\n",
       "      <td>1981-09-26</td>\n",
       "      <td>M</td>\n",
       "      <td>5.0</td>\n",
       "    </tr>\n",
       "    <tr>\n",
       "      <th>4</th>\n",
       "      <td>36957441426</td>\n",
       "      <td>270351</td>\n",
       "      <td>2013-09-16</td>\n",
       "      <td>3</td>\n",
       "      <td>2</td>\n",
       "      <td>3</td>\n",
       "      <td>361</td>\n",
       "      <td>113.715</td>\n",
       "      <td>1196.715</td>\n",
       "      <td>Flagship store</td>\n",
       "      <td>Footwear</td>\n",
       "      <td>Women</td>\n",
       "      <td>1981-09-26</td>\n",
       "      <td>M</td>\n",
       "      <td>5.0</td>\n",
       "    </tr>\n",
       "    <tr>\n",
       "      <th>5</th>\n",
       "      <td>73713102191</td>\n",
       "      <td>268867</td>\n",
       "      <td>2014-02-15</td>\n",
       "      <td>1</td>\n",
       "      <td>1</td>\n",
       "      <td>1</td>\n",
       "      <td>714</td>\n",
       "      <td>74.970</td>\n",
       "      <td>788.970</td>\n",
       "      <td>MBR</td>\n",
       "      <td>Clothing</td>\n",
       "      <td>Women</td>\n",
       "      <td>1987-10-24</td>\n",
       "      <td>F</td>\n",
       "      <td>4.0</td>\n",
       "    </tr>\n",
       "    <tr>\n",
       "      <th>6</th>\n",
       "      <td>25509331876</td>\n",
       "      <td>268867</td>\n",
       "      <td>2011-12-09</td>\n",
       "      <td>12</td>\n",
       "      <td>6</td>\n",
       "      <td>-4</td>\n",
       "      <td>-416</td>\n",
       "      <td>174.720</td>\n",
       "      <td>-1838.720</td>\n",
       "      <td>e-Shop</td>\n",
       "      <td>Home and kitchen</td>\n",
       "      <td>Tools</td>\n",
       "      <td>1987-10-24</td>\n",
       "      <td>F</td>\n",
       "      <td>4.0</td>\n",
       "    </tr>\n",
       "    <tr>\n",
       "      <th>7</th>\n",
       "      <td>25509331876</td>\n",
       "      <td>268867</td>\n",
       "      <td>2011-08-09</td>\n",
       "      <td>12</td>\n",
       "      <td>6</td>\n",
       "      <td>-4</td>\n",
       "      <td>-416</td>\n",
       "      <td>174.720</td>\n",
       "      <td>-1838.720</td>\n",
       "      <td>e-Shop</td>\n",
       "      <td>Home and kitchen</td>\n",
       "      <td>Tools</td>\n",
       "      <td>1987-10-24</td>\n",
       "      <td>F</td>\n",
       "      <td>4.0</td>\n",
       "    </tr>\n",
       "    <tr>\n",
       "      <th>8</th>\n",
       "      <td>25509331876</td>\n",
       "      <td>268867</td>\n",
       "      <td>2011-02-09</td>\n",
       "      <td>12</td>\n",
       "      <td>6</td>\n",
       "      <td>4</td>\n",
       "      <td>416</td>\n",
       "      <td>174.720</td>\n",
       "      <td>1838.720</td>\n",
       "      <td>e-Shop</td>\n",
       "      <td>Home and kitchen</td>\n",
       "      <td>Tools</td>\n",
       "      <td>1987-10-24</td>\n",
       "      <td>F</td>\n",
       "      <td>4.0</td>\n",
       "    </tr>\n",
       "    <tr>\n",
       "      <th>9</th>\n",
       "      <td>38621155609</td>\n",
       "      <td>268867</td>\n",
       "      <td>2012-08-25</td>\n",
       "      <td>10</td>\n",
       "      <td>6</td>\n",
       "      <td>3</td>\n",
       "      <td>428</td>\n",
       "      <td>134.820</td>\n",
       "      <td>1418.820</td>\n",
       "      <td>e-Shop</td>\n",
       "      <td>Home and kitchen</td>\n",
       "      <td>Kitchen</td>\n",
       "      <td>1987-10-24</td>\n",
       "      <td>F</td>\n",
       "      <td>4.0</td>\n",
       "    </tr>\n",
       "  </tbody>\n",
       "</table>\n",
       "</div>"
      ],
      "text/plain": [
       "   transaction_id  cust_id  tran_date  prod_subcat_code  prod_cat_code  Qty  \\\n",
       "0     80712190438   270351 2014-02-28                 1              1   -5   \n",
       "1     80712190438   270351 2014-02-20                 1              1    5   \n",
       "2     13181563739   270351 2011-12-13                 6              5    1   \n",
       "3     12236277258   270351 2013-03-18                 8              3    3   \n",
       "4     36957441426   270351 2013-09-16                 3              2    3   \n",
       "5     73713102191   268867 2014-02-15                 1              1    1   \n",
       "6     25509331876   268867 2011-12-09                12              6   -4   \n",
       "7     25509331876   268867 2011-08-09                12              6   -4   \n",
       "8     25509331876   268867 2011-02-09                12              6    4   \n",
       "9     38621155609   268867 2012-08-25                10              6    3   \n",
       "\n",
       "   Rate      Tax  total_amt      Store_type          prod_cat  \\\n",
       "0  -772  405.300  -4265.300          e-Shop          Clothing   \n",
       "1   772  405.300   4265.300          e-Shop          Clothing   \n",
       "2  1048  110.040   1158.040          e-Shop             Books   \n",
       "3  1030  324.450   3414.450          e-Shop       Electronics   \n",
       "4   361  113.715   1196.715  Flagship store          Footwear   \n",
       "5   714   74.970    788.970             MBR          Clothing   \n",
       "6  -416  174.720  -1838.720          e-Shop  Home and kitchen   \n",
       "7  -416  174.720  -1838.720          e-Shop  Home and kitchen   \n",
       "8   416  174.720   1838.720          e-Shop  Home and kitchen   \n",
       "9   428  134.820   1418.820          e-Shop  Home and kitchen   \n",
       "\n",
       "           prod_subcat        DOB Gender  city_code  \n",
       "0                Women 1981-09-26      M        5.0  \n",
       "1                Women 1981-09-26      M        5.0  \n",
       "2                  DIY 1981-09-26      M        5.0  \n",
       "3  Personal Appliances 1981-09-26      M        5.0  \n",
       "4                Women 1981-09-26      M        5.0  \n",
       "5                Women 1987-10-24      F        4.0  \n",
       "6                Tools 1987-10-24      F        4.0  \n",
       "7                Tools 1987-10-24      F        4.0  \n",
       "8                Tools 1987-10-24      F        4.0  \n",
       "9              Kitchen 1987-10-24      F        4.0  "
      ]
     },
     "execution_count": 8,
     "metadata": {},
     "output_type": "execute_result"
    }
   ],
   "source": [
    "Customer_Final.head(10)"
   ]
  },
  {
   "cell_type": "code",
   "execution_count": 9,
   "id": "e8092e13",
   "metadata": {},
   "outputs": [
    {
     "data": {
      "text/html": [
       "<div>\n",
       "<style scoped>\n",
       "    .dataframe tbody tr th:only-of-type {\n",
       "        vertical-align: middle;\n",
       "    }\n",
       "\n",
       "    .dataframe tbody tr th {\n",
       "        vertical-align: top;\n",
       "    }\n",
       "\n",
       "    .dataframe thead th {\n",
       "        text-align: right;\n",
       "    }\n",
       "</style>\n",
       "<table border=\"1\" class=\"dataframe\">\n",
       "  <thead>\n",
       "    <tr style=\"text-align: right;\">\n",
       "      <th></th>\n",
       "      <th>transaction_id</th>\n",
       "      <th>cust_id</th>\n",
       "      <th>tran_date</th>\n",
       "      <th>prod_subcat_code</th>\n",
       "      <th>prod_cat_code</th>\n",
       "      <th>Qty</th>\n",
       "      <th>Rate</th>\n",
       "      <th>Tax</th>\n",
       "      <th>total_amt</th>\n",
       "      <th>Store_type</th>\n",
       "      <th>prod_cat</th>\n",
       "      <th>prod_subcat</th>\n",
       "      <th>DOB</th>\n",
       "      <th>Gender</th>\n",
       "      <th>city_code</th>\n",
       "    </tr>\n",
       "  </thead>\n",
       "  <tbody>\n",
       "    <tr>\n",
       "      <th>23043</th>\n",
       "      <td>85300368295</td>\n",
       "      <td>272913</td>\n",
       "      <td>2011-12-17</td>\n",
       "      <td>1</td>\n",
       "      <td>4</td>\n",
       "      <td>3</td>\n",
       "      <td>518</td>\n",
       "      <td>163.170</td>\n",
       "      <td>1717.170</td>\n",
       "      <td>MBR</td>\n",
       "      <td>Bags</td>\n",
       "      <td>Mens</td>\n",
       "      <td>1982-07-17</td>\n",
       "      <td>F</td>\n",
       "      <td>2.0</td>\n",
       "    </tr>\n",
       "    <tr>\n",
       "      <th>23044</th>\n",
       "      <td>88167450510</td>\n",
       "      <td>268028</td>\n",
       "      <td>2011-08-11</td>\n",
       "      <td>1</td>\n",
       "      <td>4</td>\n",
       "      <td>-5</td>\n",
       "      <td>-608</td>\n",
       "      <td>319.200</td>\n",
       "      <td>-3359.200</td>\n",
       "      <td>Flagship store</td>\n",
       "      <td>Bags</td>\n",
       "      <td>Mens</td>\n",
       "      <td>1980-03-06</td>\n",
       "      <td>M</td>\n",
       "      <td>7.0</td>\n",
       "    </tr>\n",
       "    <tr>\n",
       "      <th>23045</th>\n",
       "      <td>88167450510</td>\n",
       "      <td>268028</td>\n",
       "      <td>2011-03-11</td>\n",
       "      <td>1</td>\n",
       "      <td>4</td>\n",
       "      <td>5</td>\n",
       "      <td>608</td>\n",
       "      <td>319.200</td>\n",
       "      <td>3359.200</td>\n",
       "      <td>Flagship store</td>\n",
       "      <td>Bags</td>\n",
       "      <td>Mens</td>\n",
       "      <td>1980-03-06</td>\n",
       "      <td>M</td>\n",
       "      <td>7.0</td>\n",
       "    </tr>\n",
       "    <tr>\n",
       "      <th>23046</th>\n",
       "      <td>40528384413</td>\n",
       "      <td>273953</td>\n",
       "      <td>2011-09-22</td>\n",
       "      <td>1</td>\n",
       "      <td>4</td>\n",
       "      <td>2</td>\n",
       "      <td>1148</td>\n",
       "      <td>241.080</td>\n",
       "      <td>2537.080</td>\n",
       "      <td>Flagship store</td>\n",
       "      <td>Bags</td>\n",
       "      <td>Mens</td>\n",
       "      <td>1991-02-08</td>\n",
       "      <td>M</td>\n",
       "      <td>8.0</td>\n",
       "    </tr>\n",
       "    <tr>\n",
       "      <th>23047</th>\n",
       "      <td>84009622150</td>\n",
       "      <td>273116</td>\n",
       "      <td>2011-08-26</td>\n",
       "      <td>1</td>\n",
       "      <td>4</td>\n",
       "      <td>2</td>\n",
       "      <td>1474</td>\n",
       "      <td>309.540</td>\n",
       "      <td>3257.540</td>\n",
       "      <td>e-Shop</td>\n",
       "      <td>Bags</td>\n",
       "      <td>Mens</td>\n",
       "      <td>1980-10-13</td>\n",
       "      <td>M</td>\n",
       "      <td>5.0</td>\n",
       "    </tr>\n",
       "    <tr>\n",
       "      <th>23048</th>\n",
       "      <td>87125650</td>\n",
       "      <td>268666</td>\n",
       "      <td>2011-09-08</td>\n",
       "      <td>1</td>\n",
       "      <td>4</td>\n",
       "      <td>-5</td>\n",
       "      <td>-359</td>\n",
       "      <td>188.475</td>\n",
       "      <td>-1983.475</td>\n",
       "      <td>e-Shop</td>\n",
       "      <td>Bags</td>\n",
       "      <td>Mens</td>\n",
       "      <td>1978-11-12</td>\n",
       "      <td>M</td>\n",
       "      <td>3.0</td>\n",
       "    </tr>\n",
       "    <tr>\n",
       "      <th>23049</th>\n",
       "      <td>87125650</td>\n",
       "      <td>268666</td>\n",
       "      <td>2011-05-08</td>\n",
       "      <td>1</td>\n",
       "      <td>4</td>\n",
       "      <td>5</td>\n",
       "      <td>359</td>\n",
       "      <td>188.475</td>\n",
       "      <td>1983.475</td>\n",
       "      <td>e-Shop</td>\n",
       "      <td>Bags</td>\n",
       "      <td>Mens</td>\n",
       "      <td>1978-11-12</td>\n",
       "      <td>M</td>\n",
       "      <td>3.0</td>\n",
       "    </tr>\n",
       "    <tr>\n",
       "      <th>23050</th>\n",
       "      <td>34764580226</td>\n",
       "      <td>269784</td>\n",
       "      <td>2011-07-20</td>\n",
       "      <td>1</td>\n",
       "      <td>4</td>\n",
       "      <td>1</td>\n",
       "      <td>1057</td>\n",
       "      <td>110.985</td>\n",
       "      <td>1167.985</td>\n",
       "      <td>Flagship store</td>\n",
       "      <td>Bags</td>\n",
       "      <td>Mens</td>\n",
       "      <td>1986-04-26</td>\n",
       "      <td>F</td>\n",
       "      <td>7.0</td>\n",
       "    </tr>\n",
       "    <tr>\n",
       "      <th>23051</th>\n",
       "      <td>80809115393</td>\n",
       "      <td>268084</td>\n",
       "      <td>2011-01-04</td>\n",
       "      <td>1</td>\n",
       "      <td>4</td>\n",
       "      <td>4</td>\n",
       "      <td>873</td>\n",
       "      <td>366.660</td>\n",
       "      <td>3858.660</td>\n",
       "      <td>TeleShop</td>\n",
       "      <td>Bags</td>\n",
       "      <td>Mens</td>\n",
       "      <td>1970-11-18</td>\n",
       "      <td>M</td>\n",
       "      <td>1.0</td>\n",
       "    </tr>\n",
       "    <tr>\n",
       "      <th>23052</th>\n",
       "      <td>12933894691</td>\n",
       "      <td>272706</td>\n",
       "      <td>2011-01-31</td>\n",
       "      <td>1</td>\n",
       "      <td>4</td>\n",
       "      <td>5</td>\n",
       "      <td>361</td>\n",
       "      <td>189.525</td>\n",
       "      <td>1994.525</td>\n",
       "      <td>MBR</td>\n",
       "      <td>Bags</td>\n",
       "      <td>Mens</td>\n",
       "      <td>1974-09-03</td>\n",
       "      <td>M</td>\n",
       "      <td>8.0</td>\n",
       "    </tr>\n",
       "  </tbody>\n",
       "</table>\n",
       "</div>"
      ],
      "text/plain": [
       "       transaction_id  cust_id  tran_date  prod_subcat_code  prod_cat_code  \\\n",
       "23043     85300368295   272913 2011-12-17                 1              4   \n",
       "23044     88167450510   268028 2011-08-11                 1              4   \n",
       "23045     88167450510   268028 2011-03-11                 1              4   \n",
       "23046     40528384413   273953 2011-09-22                 1              4   \n",
       "23047     84009622150   273116 2011-08-26                 1              4   \n",
       "23048        87125650   268666 2011-09-08                 1              4   \n",
       "23049        87125650   268666 2011-05-08                 1              4   \n",
       "23050     34764580226   269784 2011-07-20                 1              4   \n",
       "23051     80809115393   268084 2011-01-04                 1              4   \n",
       "23052     12933894691   272706 2011-01-31                 1              4   \n",
       "\n",
       "       Qty  Rate      Tax  total_amt      Store_type prod_cat prod_subcat  \\\n",
       "23043    3   518  163.170   1717.170             MBR     Bags        Mens   \n",
       "23044   -5  -608  319.200  -3359.200  Flagship store     Bags        Mens   \n",
       "23045    5   608  319.200   3359.200  Flagship store     Bags        Mens   \n",
       "23046    2  1148  241.080   2537.080  Flagship store     Bags        Mens   \n",
       "23047    2  1474  309.540   3257.540          e-Shop     Bags        Mens   \n",
       "23048   -5  -359  188.475  -1983.475          e-Shop     Bags        Mens   \n",
       "23049    5   359  188.475   1983.475          e-Shop     Bags        Mens   \n",
       "23050    1  1057  110.985   1167.985  Flagship store     Bags        Mens   \n",
       "23051    4   873  366.660   3858.660        TeleShop     Bags        Mens   \n",
       "23052    5   361  189.525   1994.525             MBR     Bags        Mens   \n",
       "\n",
       "             DOB Gender  city_code  \n",
       "23043 1982-07-17      F        2.0  \n",
       "23044 1980-03-06      M        7.0  \n",
       "23045 1980-03-06      M        7.0  \n",
       "23046 1991-02-08      M        8.0  \n",
       "23047 1980-10-13      M        5.0  \n",
       "23048 1978-11-12      M        3.0  \n",
       "23049 1978-11-12      M        3.0  \n",
       "23050 1986-04-26      F        7.0  \n",
       "23051 1970-11-18      M        1.0  \n",
       "23052 1974-09-03      M        8.0  "
      ]
     },
     "execution_count": 9,
     "metadata": {},
     "output_type": "execute_result"
    }
   ],
   "source": [
    "Customer_Final.tail(10)"
   ]
  },
  {
   "cell_type": "markdown",
   "id": "92a15ca6",
   "metadata": {},
   "source": [
    "### c. “Five-number summary” for continuous variables (min, Q1, median, Q3 and max)"
   ]
  },
  {
   "cell_type": "code",
   "execution_count": 10,
   "id": "17a44cae",
   "metadata": {},
   "outputs": [],
   "source": [
    "Continuous_var_data=Customer_Final[['Qty','Rate','Tax','total_amt']]\n",
    "Categorical_var_data=Customer_Final[['transaction_id','cust_id','prod_subcat_code','prod_cat_code','Store_type','prod_cat','prod_subcat','Gender','city_code']].astype(object)"
   ]
  },
  {
   "cell_type": "code",
   "execution_count": 11,
   "id": "af84c6d3",
   "metadata": {},
   "outputs": [
    {
     "data": {
      "text/html": [
       "<div>\n",
       "<style scoped>\n",
       "    .dataframe tbody tr th:only-of-type {\n",
       "        vertical-align: middle;\n",
       "    }\n",
       "\n",
       "    .dataframe tbody tr th {\n",
       "        vertical-align: top;\n",
       "    }\n",
       "\n",
       "    .dataframe thead th {\n",
       "        text-align: right;\n",
       "    }\n",
       "</style>\n",
       "<table border=\"1\" class=\"dataframe\">\n",
       "  <thead>\n",
       "    <tr style=\"text-align: right;\">\n",
       "      <th></th>\n",
       "      <th>Qty</th>\n",
       "      <th>Rate</th>\n",
       "      <th>Tax</th>\n",
       "      <th>total_amt</th>\n",
       "    </tr>\n",
       "  </thead>\n",
       "  <tbody>\n",
       "    <tr>\n",
       "      <th>min</th>\n",
       "      <td>-5.0</td>\n",
       "      <td>-1499.0</td>\n",
       "      <td>7.350</td>\n",
       "      <td>-8270.925</td>\n",
       "    </tr>\n",
       "    <tr>\n",
       "      <th>25%</th>\n",
       "      <td>1.0</td>\n",
       "      <td>312.0</td>\n",
       "      <td>98.280</td>\n",
       "      <td>762.450</td>\n",
       "    </tr>\n",
       "    <tr>\n",
       "      <th>50%</th>\n",
       "      <td>3.0</td>\n",
       "      <td>710.0</td>\n",
       "      <td>199.080</td>\n",
       "      <td>1754.740</td>\n",
       "    </tr>\n",
       "    <tr>\n",
       "      <th>75%</th>\n",
       "      <td>4.0</td>\n",
       "      <td>1109.0</td>\n",
       "      <td>365.715</td>\n",
       "      <td>3569.150</td>\n",
       "    </tr>\n",
       "    <tr>\n",
       "      <th>max</th>\n",
       "      <td>5.0</td>\n",
       "      <td>1500.0</td>\n",
       "      <td>787.500</td>\n",
       "      <td>8287.500</td>\n",
       "    </tr>\n",
       "  </tbody>\n",
       "</table>\n",
       "</div>"
      ],
      "text/plain": [
       "     Qty    Rate      Tax  total_amt\n",
       "min -5.0 -1499.0    7.350  -8270.925\n",
       "25%  1.0   312.0   98.280    762.450\n",
       "50%  3.0   710.0  199.080   1754.740\n",
       "75%  4.0  1109.0  365.715   3569.150\n",
       "max  5.0  1500.0  787.500   8287.500"
      ]
     },
     "execution_count": 11,
     "metadata": {},
     "output_type": "execute_result"
    }
   ],
   "source": [
    "Continuous_var_data.describe().loc['min':'max',:]"
   ]
  },
  {
   "cell_type": "markdown",
   "id": "14f86b31",
   "metadata": {},
   "source": [
    "###  d. Frequency tables for all the categorical variables"
   ]
  },
  {
   "cell_type": "code",
   "execution_count": 12,
   "id": "1c46314c",
   "metadata": {},
   "outputs": [
    {
     "data": {
      "text/html": [
       "<div>\n",
       "<style scoped>\n",
       "    .dataframe tbody tr th:only-of-type {\n",
       "        vertical-align: middle;\n",
       "    }\n",
       "\n",
       "    .dataframe tbody tr th {\n",
       "        vertical-align: top;\n",
       "    }\n",
       "\n",
       "    .dataframe thead th {\n",
       "        text-align: right;\n",
       "    }\n",
       "</style>\n",
       "<table border=\"1\" class=\"dataframe\">\n",
       "  <thead>\n",
       "    <tr style=\"text-align: right;\">\n",
       "      <th></th>\n",
       "      <th>transaction_id</th>\n",
       "      <th>cust_id</th>\n",
       "      <th>prod_subcat_code</th>\n",
       "      <th>prod_cat_code</th>\n",
       "      <th>Store_type</th>\n",
       "      <th>prod_cat</th>\n",
       "      <th>prod_subcat</th>\n",
       "      <th>Gender</th>\n",
       "      <th>city_code</th>\n",
       "    </tr>\n",
       "  </thead>\n",
       "  <tbody>\n",
       "    <tr>\n",
       "      <th>count</th>\n",
       "      <td>23053</td>\n",
       "      <td>23053</td>\n",
       "      <td>23053</td>\n",
       "      <td>23053</td>\n",
       "      <td>23053</td>\n",
       "      <td>23053</td>\n",
       "      <td>23053</td>\n",
       "      <td>23044</td>\n",
       "      <td>23045.0</td>\n",
       "    </tr>\n",
       "    <tr>\n",
       "      <th>unique</th>\n",
       "      <td>20878</td>\n",
       "      <td>5506</td>\n",
       "      <td>12</td>\n",
       "      <td>6</td>\n",
       "      <td>4</td>\n",
       "      <td>6</td>\n",
       "      <td>18</td>\n",
       "      <td>2</td>\n",
       "      <td>10.0</td>\n",
       "    </tr>\n",
       "    <tr>\n",
       "      <th>top</th>\n",
       "      <td>32263938079</td>\n",
       "      <td>269449</td>\n",
       "      <td>4</td>\n",
       "      <td>5</td>\n",
       "      <td>e-Shop</td>\n",
       "      <td>Books</td>\n",
       "      <td>Women</td>\n",
       "      <td>M</td>\n",
       "      <td>4.0</td>\n",
       "    </tr>\n",
       "    <tr>\n",
       "      <th>freq</th>\n",
       "      <td>4</td>\n",
       "      <td>13</td>\n",
       "      <td>4002</td>\n",
       "      <td>6069</td>\n",
       "      <td>9311</td>\n",
       "      <td>6069</td>\n",
       "      <td>3048</td>\n",
       "      <td>11811</td>\n",
       "      <td>2422.0</td>\n",
       "    </tr>\n",
       "  </tbody>\n",
       "</table>\n",
       "</div>"
      ],
      "text/plain": [
       "        transaction_id  cust_id  prod_subcat_code  prod_cat_code Store_type  \\\n",
       "count            23053    23053             23053          23053      23053   \n",
       "unique           20878     5506                12              6          4   \n",
       "top        32263938079   269449                 4              5     e-Shop   \n",
       "freq                 4       13              4002           6069       9311   \n",
       "\n",
       "       prod_cat prod_subcat Gender  city_code  \n",
       "count     23053       23053  23044    23045.0  \n",
       "unique        6          18      2       10.0  \n",
       "top       Books       Women      M        4.0  \n",
       "freq       6069        3048  11811     2422.0  "
      ]
     },
     "execution_count": 12,
     "metadata": {},
     "output_type": "execute_result"
    }
   ],
   "source": [
    "Categorical_var_data.describe()"
   ]
  },
  {
   "cell_type": "markdown",
   "id": "c8f1e1ce",
   "metadata": {},
   "source": [
    "## 3. Generate histograms for all continuous variables and frequency bars for categorical variables."
   ]
  },
  {
   "cell_type": "markdown",
   "id": "f9ed6016",
   "metadata": {},
   "source": [
    "### For Continuous variables:"
   ]
  },
  {
   "cell_type": "code",
   "execution_count": 13,
   "id": "fbe1485e",
   "metadata": {},
   "outputs": [
    {
     "data": {
      "image/png": "[encoded data removed]",
      "text/plain": [
       "<Figure size 432x288 with 1 Axes>"
      ]
     },
     "metadata": {},
     "output_type": "display_data"
    },
    {
     "data": {
      "image/png": "[encoded data removed]",
      "text/plain": [
       "<Figure size 432x288 with 1 Axes>"
      ]
     },
     "metadata": {},
     "output_type": "display_data"
    },
    {
     "data": {
      "image/png": "[encoded data removed]",
      "text/plain": [
       "<Figure size 432x288 with 1 Axes>"
      ]
     },
     "metadata": {},
     "output_type": "display_data"
    },
    {
     "data": {
      "image/png": "[encoded data removed]",
      "text/plain": [
       "<Figure size 432x288 with 1 Axes>"
      ]
     },
     "metadata": {},
     "output_type": "display_data"
    }
   ],
   "source": [
    "for i in Continuous_var_data.columns:\n",
    "    plt.hist(Customer_Final[i],label=i,color='b')\n",
    "    plt.ylabel('frequency',fontsize=16)\n",
    "    plt.legend(bbox_to_anchor=(1.5,0.5),fontsize=16)\n",
    "    plt.show()"
   ]
  },
  {
   "cell_type": "markdown",
   "id": "9e538c7a",
   "metadata": {},
   "source": [
    "### for date variables"
   ]
  },
  {
   "cell_type": "code",
   "execution_count": 14,
   "id": "7281a2f3",
   "metadata": {},
   "outputs": [
    {
     "data": {
      "image/png": "[encoded data removed]",
      "text/plain": [
       "<Figure size 432x288 with 1 Axes>"
      ]
     },
     "metadata": {},
     "output_type": "display_data"
    },
    {
     "data": {
      "image/png": "[encoded data removed]",
      "text/plain": [
       "<Figure size 432x288 with 1 Axes>"
      ]
     },
     "metadata": {},
     "output_type": "display_data"
    }
   ],
   "source": [
    "# for date variables, we cannot directly create histograms, we derive some variables and then create histograms\n",
    "date_col=['DOB','tran_date']\n",
    "for i in date_col:\n",
    "    plt.hist(Customer_Final[i].dt.year,label=i,bins=10,color='g')\n",
    "    plt.ylabel('frequency',fontsize=16)\n",
    "    plt.legend(bbox_to_anchor=(1.5,0.5),fontsize=16)\n",
    "    plt.show()"
   ]
  },
  {
   "cell_type": "markdown",
   "id": "07802d52",
   "metadata": {},
   "source": [
    "### for categorical variables:"
   ]
  },
  {
   "cell_type": "code",
   "execution_count": 15,
   "id": "ca188f74",
   "metadata": {},
   "outputs": [],
   "source": [
    "# since cust_id,tran_id has large number of unique values and they are primary keys , we cannot get a frequency bars\n",
    "categorical_var=['prod_subcat_code','prod_cat_code','Store_type','prod_cat','prod_subcat','Gender','city_code']"
   ]
  },
  {
   "cell_type": "code",
   "execution_count": 16,
   "id": "18ec5b76",
   "metadata": {},
   "outputs": [
    {
     "data": {
      "image/png": "[encoded data removed]",
      "text/plain": [
       "<Figure size 432x288 with 1 Axes>"
      ]
     },
     "metadata": {},
     "output_type": "display_data"
    },
    {
     "data": {
      "image/png": "[encoded data removed]",
      "text/plain": [
       "<Figure size 432x288 with 1 Axes>"
      ]
     },
     "metadata": {},
     "output_type": "display_data"
    },
    {
     "data": {
      "image/png": "[encoded data removed]",
      "text/plain": [
       "<Figure size 432x288 with 1 Axes>"
      ]
     },
     "metadata": {},
     "output_type": "display_data"
    },
    {
     "data": {
      "image/png": "[encoded data removed]",
      "text/plain": [
       "<Figure size 432x288 with 1 Axes>"
      ]
     },
     "metadata": {},
     "output_type": "display_data"
    },
    {
     "data": {
      "image/png": "[encoded data removed]",
      "text/plain": [
       "<Figure size 432x288 with 1 Axes>"
      ]
     },
     "metadata": {},
     "output_type": "display_data"
    },
    {
     "data": {
      "image/png": "[encoded data removed]",
      "text/plain": [
       "<Figure size 432x288 with 1 Axes>"
      ]
     },
     "metadata": {},
     "output_type": "display_data"
    },
    {
     "data": {
      "image/png": "[encoded data removed]",
      "text/plain": [
       "<Figure size 432x288 with 1 Axes>"
      ]
     },
     "metadata": {},
     "output_type": "display_data"
    }
   ],
   "source": [
    "for i in categorical_var:\n",
    "    sns.countplot(Customer_Final[i],label=i)\n",
    "    plt.legend(bbox_to_anchor=(1.5,0.5),fontsize=16)\n",
    "    plt.show()"
   ]
  },
  {
   "cell_type": "markdown",
   "id": "a5015617",
   "metadata": {},
   "source": [
    "## 4. Calculate the following information using the merged dataset :"
   ]
  },
  {
   "cell_type": "markdown",
   "id": "b3312164",
   "metadata": {},
   "source": [
    "### a. Time period of the available transaction data"
   ]
  },
  {
   "cell_type": "code",
   "execution_count": 17,
   "id": "f1a22a72",
   "metadata": {},
   "outputs": [
    {
     "name": "stdout",
     "output_type": "stream",
     "text": [
      "Time period of the available transaction data is from 2011-01-02 00:00:00 to 2014-12-02 00:00:00 \n",
      "The duration of avaialble transaction data is 1430 days 00:00:00\n"
     ]
    }
   ],
   "source": [
    "max_date=Customer_Final.tran_date.max()\n",
    "min_date=Customer_Final.tran_date.min()\n",
    "a=max_date-min_date\n",
    "print(f'Time period of the available transaction data is from {min_date} to {max_date} \\nThe duration of avaialble transaction data is {a}')"
   ]
  },
  {
   "cell_type": "markdown",
   "id": "b98eab34",
   "metadata": {},
   "source": [
    "### b. Count of transactions where the total amount of transaction was negative"
   ]
  },
  {
   "cell_type": "code",
   "execution_count": 18,
   "id": "b77ac4e3",
   "metadata": {},
   "outputs": [
    {
     "name": "stdout",
     "output_type": "stream",
     "text": [
      "Count of transactions where the total amount of transaction was negative is 2177\n"
     ]
    }
   ],
   "source": [
    "b4=Customer_Final[Customer_Final.total_amt <0].transaction_id.count()\n",
    "print('Count of transactions where the total amount of transaction was negative is',b4)"
   ]
  },
  {
   "cell_type": "markdown",
   "id": "6c722d53",
   "metadata": {},
   "source": [
    "## 5. Analyze which product categories are more popular among females vs male customers."
   ]
  },
  {
   "cell_type": "code",
   "execution_count": 19,
   "id": "a03e5abb",
   "metadata": {},
   "outputs": [
    {
     "name": "stdout",
     "output_type": "stream",
     "text": [
      "Footwear,Bags are more popular categories among Females \n",
      "Books,Clothing,Electronics,Home and kitchen are more popular categories among Males\n"
     ]
    },
    {
     "data": {
      "image/png": "[encoded data removed]",
      "text/plain": [
       "<Figure size 936x360 with 1 Axes>"
      ]
     },
     "metadata": {},
     "output_type": "display_data"
    }
   ],
   "source": [
    "pd.pivot_table(data=Customer_Final,index='prod_cat',columns='Gender',values='Qty',aggfunc='sum').plot.bar(figsize=(13,5))\n",
    "print('Footwear,Bags are more popular categories among Females \\nBooks,Clothing,Electronics,Home and kitchen are more popular categories among Males')"
   ]
  },
  {
   "cell_type": "markdown",
   "id": "8dac2d87",
   "metadata": {},
   "source": [
    "## 6. Which City code has the maximum customers and what was the percentage of customers from that city?"
   ]
  },
  {
   "cell_type": "code",
   "execution_count": 20,
   "id": "4126a4a0",
   "metadata": {},
   "outputs": [
    {
     "name": "stdout",
     "output_type": "stream",
     "text": [
      "City code which has the maximum customers is 4.0 with percentage of 10.506224786361862\n"
     ]
    }
   ],
   "source": [
    "Q6=(Customer_Final.groupby('city_code')[['cust_id']].count()/(Customer_Final.cust_id.count())*100)\n",
    "Q6_ans=Q6.sort_values(by='cust_id',ascending=False).head(1)\n",
    "print(f'City code which has the maximum customers is {Q6_ans.index[0]} with percentage of {Q6_ans.iloc[0,0]}')\n"
   ]
  },
  {
   "cell_type": "markdown",
   "id": "b71756ff",
   "metadata": {},
   "source": [
    "## 7.Which store type sells the maximum products by value and by quantity?"
   ]
  },
  {
   "cell_type": "code",
   "execution_count": 21,
   "id": "139447d2",
   "metadata": {},
   "outputs": [
    {
     "name": "stdout",
     "output_type": "stream",
     "text": [
      "store type which sells the maximum products by value and by quantity is : e-Shop\n"
     ]
    }
   ],
   "source": [
    "Q7=Customer_Final.query('Qty>0').groupby('Store_type')[['total_amt','Qty']].sum()\n",
    "Q7_ans=Q7.sort_values(by=['total_amt','Qty'],ascending=False).head(1).index[0]\n",
    "print('store type which sells the maximum products by value and by quantity is :',Q7_ans)\n"
   ]
  },
  {
   "cell_type": "markdown",
   "id": "7c21936e",
   "metadata": {},
   "source": [
    "## 8. What was the total amount earned from the \"Electronics\" and \"Clothing\" categories from Flagship Stores?"
   ]
  },
  {
   "cell_type": "code",
   "execution_count": 22,
   "id": "53e3a351",
   "metadata": {},
   "outputs": [
    {
     "name": "stdout",
     "output_type": "stream",
     "text": [
      "the total amount earned from the \"Electronics\" and \"Clothing\" categories from Flagship Stores is :  3409559.2699999996\n"
     ]
    }
   ],
   "source": [
    "Q8=Customer_Final.query('Store_type== \"Flagship store\" and  prod_cat in [\"Electronics\",\"Clothing\"]')\n",
    "Q8_ans=Q8.total_amt.sum()\n",
    "print('the total amount earned from the \"Electronics\" and \"Clothing\" categories from Flagship Stores is : ',Q8_ans)"
   ]
  },
  {
   "cell_type": "markdown",
   "id": "0695bb47",
   "metadata": {},
   "source": [
    "## 9. What was the total amount earned from \"Male\" customers under the \"Electronics\" category?"
   ]
  },
  {
   "cell_type": "code",
   "execution_count": 23,
   "id": "ff2850bc",
   "metadata": {},
   "outputs": [
    {
     "name": "stdout",
     "output_type": "stream",
     "text": [
      "the total amount earned from \"Male\" customers under the \"Electronics\" category is :  5703109.425\n"
     ]
    }
   ],
   "source": [
    "Q9=Customer_Final.query('Gender==\"M\" and prod_cat == \"Electronics\"')\n",
    "Q9_ans=Q9.total_amt.sum()\n",
    "print('the total amount earned from \"Male\" customers under the \"Electronics\" category is : ',Q9_ans)"
   ]
  },
  {
   "cell_type": "markdown",
   "id": "fb9ae732",
   "metadata": {},
   "source": [
    "## 10. How many customers have more than 10 unique transactions, after removing all transactions which have any negative amounts?"
   ]
  },
  {
   "cell_type": "code",
   "execution_count": 24,
   "id": "1180652d",
   "metadata": {},
   "outputs": [
    {
     "name": "stdout",
     "output_type": "stream",
     "text": [
      "Number of  customers have more than 10 unique transactions, after removing all transactions which have any negative amounts is :  27\n"
     ]
    }
   ],
   "source": [
    "Q10=Customer_Final.query('total_amt>0').groupby('cust_id')[['transaction_id']].count()\n",
    "Q10_ans=Q10.query('transaction_id >= 10').count().iloc[0]\n",
    "print('Number of  customers have more than 10 unique transactions, after removing all transactions which have any negative amounts is : ',Q10_ans)"
   ]
  },
  {
   "cell_type": "markdown",
   "id": "66956f08",
   "metadata": {},
   "source": [
    "## 11. For all customers aged between 25 - 35, find out:"
   ]
  },
  {
   "cell_type": "markdown",
   "id": "20d73a14",
   "metadata": {},
   "source": [
    "### a. What was the total amount spent for “Electronics” and “Books” product categories?"
   ]
  },
  {
   "cell_type": "code",
   "execution_count": 25,
   "id": "831ea162",
   "metadata": {},
   "outputs": [],
   "source": [
    "Customer_Final['age']=Customer_Final.tran_date.dt.year - Customer_Final.DOB.dt.year\n",
    "Q11=Customer_Final.query('age>= 25 and age<=35')"
   ]
  },
  {
   "cell_type": "code",
   "execution_count": 26,
   "id": "54795201",
   "metadata": {},
   "outputs": [
    {
     "name": "stdout",
     "output_type": "stream",
     "text": [
      "the total amount spent for “Electronics” and “Books” product categories is : 11219541.254999999\n"
     ]
    }
   ],
   "source": [
    "Q11_a_ans=Q11.query('prod_cat in [\"Electronics\",\"Books\"]').total_amt.sum()\n",
    "print('the total amount spent for “Electronics” and “Books” product categories is :',Q11_a_ans)"
   ]
  },
  {
   "cell_type": "markdown",
   "id": "303ab179",
   "metadata": {},
   "source": [
    "###  b. What was the total amount spent by these customers between 1st Jan, 2014 to 1st Mar, 2014?"
   ]
  },
  {
   "cell_type": "code",
   "execution_count": 27,
   "id": "ca0245a8",
   "metadata": {},
   "outputs": [
    {
     "name": "stdout",
     "output_type": "stream",
     "text": [
      "the total amount spent by these customers between 1st Jan, 2014 to 1st Mar, 2014 is 685698.9099999999\n"
     ]
    }
   ],
   "source": [
    "Q11_b_ans=Q11.query('tran_date >= \"2014-01-01\" and tran_date <= \"2014-03-01\"').total_amt.sum()\n",
    "print('the total amount spent by these customers between 1st Jan, 2014 to 1st Mar, 2014 is',Q11_b_ans)"
   ]
  }
 ],
 "metadata": {
  "kernelspec": {
   "display_name": "Python 3 (ipykernel)",
   "language": "python",
   "name": "python3"
  },
  "language_info": {
   "codemirror_mode": {
    "name": "ipython",
    "version": 3
   },
   "file_extension": ".py",
   "mimetype": "text/x-python",
   "name": "python",
   "nbconvert_exporter": "python",
   "pygments_lexer": "ipython3",
   "version": "3.9.7"
  }
 },
 "nbformat": 4,
 "nbformat_minor": 5
}
